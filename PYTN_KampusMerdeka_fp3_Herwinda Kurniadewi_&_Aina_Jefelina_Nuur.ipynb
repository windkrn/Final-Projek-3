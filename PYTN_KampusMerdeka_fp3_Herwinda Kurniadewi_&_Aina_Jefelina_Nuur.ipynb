{
 "cells": [
  {
   "cell_type": "markdown",
   "id": "f738cd5f",
   "metadata": {},
   "source": [
    "# Final Projek 3 "
   ]
  },
  {
   "cell_type": "markdown",
   "id": "71a0e0b9",
   "metadata": {},
   "source": [
    "# Daftar Isi"
   ]
  },
  {
   "cell_type": "markdown",
   "id": "19188fea",
   "metadata": {},
   "source": [
    "- Perkenalan\n",
    "- Import pustaka\n",
    "- Data loading\n",
    "- Data cleaning\n",
    "- Eksplorasi data\n",
    "- Data preprocessing\n",
    "- Model\n",
    "- Evaluasi model\n",
    "- Kesimpulan"
   ]
  },
  {
   "cell_type": "markdown",
   "id": "12481633",
   "metadata": {},
   "source": [
    "# Perkenalan\n",
    "\n",
    "- Herwinda Kurniadewi\n",
    "- Aina Jefelina Nuur"
   ]
  },
  {
   "cell_type": "markdown",
   "id": "f872547f",
   "metadata": {},
   "source": [
    "## Latar Belakang"
   ]
  },
  {
   "cell_type": "markdown",
   "id": "e726a05e",
   "metadata": {},
   "source": [
    "Penyakit kardiovaskular (CVDs) adalah penyebab kematian nomor 1 secara global, mengambil sekitar 17,9 juta jiwa setiap tahun, yang menyumbang 31% dari semua kematian di seluruh dunia.\n",
    "Gagal jantung adalah kejadian umum yang disebabkan oleh CVD dan kumpulan data ini berisi 12 fitur yang dapat digunakan untuk memprediksi kematian akibat gagal jantung.\n",
    "\n",
    "Sebagian besar penyakit kardiovaskular dapat dicegah dengan mengatasi faktor risiko perilaku seperti penggunaan tembakau, diet tidak sehat dan obesitas, kurangnya aktivitas fisik, dan penggunaan alkohol yang berbahaya menggunakan strategi di seluruh populasi.\n",
    "\n",
    "Orang dengan penyakit kardiovaskular atau yang berada pada risiko kardiovaskular tinggi (karena adanya satu atau lebih faktor risiko seperti hipertensi, diabetes, hiperlipidemia atau penyakit yang sudah ada) memerlukan deteksi dan manajemen dini di mana model pembelajaran mesin dapat sangat membantu."
   ]
  },
  {
   "cell_type": "markdown",
   "id": "17bc2087",
   "metadata": {},
   "source": [
    "## Data"
   ]
  },
  {
   "cell_type": "markdown",
   "id": "d3ab5c33",
   "metadata": {},
   "source": [
    "Data yang digunakan yaitu data Heart Failure Prediction dari kaggle dalam https://www.kaggle.com/andrewmvd/heart-failure-clinical-data. Dataset ini terdiri dari **13 kolom**, termasuk kolom target yaitu **DEATH_EVENT**.\n",
    "1. age - umur pasien\n",
    "2. anaemia - apakah ada pengurangan haemoglobin\n",
    "3. creatinine_phosphokinase - level enzim CPK dalam mcg/L\n",
    "4. diabetes - apakah pasien punya riwayat diabetes\n",
    "5. ejection_fraction - persentase darah yang meninggalkan jantung dalam persentasi di setiap kontraksi jantung\n",
    "6. high_blood_pressure - apakah pasien punya darah tinggi\n",
    "7. platelets - jumlah platelet di darah dalam kiloplatelets/mL\n",
    "8. serum_creatinine - level serum creatinine di darah dalam mg/dL\n",
    "9. serum_sodium - level serum sodium di darah dalam mEq/L\n",
    "10. sex - apakah pasien pria atau wanita\n",
    "11. smoking - apakah pasien merokok\n",
    "12. time - waktu dalam hari untuk follow-up\n",
    "13. DEATH_EVENT - apakah pasien sudah meninggal saat waktu follow-up"
   ]
  },
  {
   "cell_type": "markdown",
   "id": "80286f55",
   "metadata": {},
   "source": [
    "## Tujuan"
   ]
  },
  {
   "cell_type": "markdown",
   "id": "6fd32e5b",
   "metadata": {},
   "source": [
    "Tujuan pada final projek ini adalah memprediksi keselamatan pasien dari penyakit jantung dan juga mengiplementasi Boosting & Random forest dengan scikit-learn\n"
   ]
  },
  {
   "cell_type": "markdown",
   "id": "bd410295",
   "metadata": {},
   "source": [
    "# Import Library"
   ]
  },
  {
   "cell_type": "code",
   "execution_count": 58,
   "id": "bc7664df",
   "metadata": {},
   "outputs": [],
   "source": [
    "import pandas as pd\n",
    "import numpy as np\n",
    "import math\n",
    "import matplotlib as mpl\n",
    "\n",
    "import matplotlib.pyplot as plt\n",
    "import seaborn as sns\n",
    "\n",
    "\n",
    "from sklearn.model_selection import train_test_split\n",
    "from scipy.stats import skew, norm,  boxcox\n",
    "from imblearn.over_sampling import SMOTE\n",
    "\n",
    "from sklearn.ensemble import RandomForestClassifier\n",
    "from xgboost.sklearn import XGBClassifier\n",
    "\n",
    "from sklearn.metrics import accuracy_score, classification_report,confusion_matrix\n",
    "from sklearn.metrics import precision_score\n",
    "from sklearn.metrics import recall_score\n",
    "from sklearn.metrics import f1_score\n",
    "from sklearn.metrics import accuracy_score\n",
    "\n",
    "\n",
    "import pickle\n",
    "%matplotlib inline"
   ]
  },
  {
   "cell_type": "markdown",
   "id": "76993473",
   "metadata": {},
   "source": [
    "# Data Loading"
   ]
  },
  {
   "cell_type": "markdown",
   "id": "a8aadc63",
   "metadata": {},
   "source": [
    "### Read data"
   ]
  },
  {
   "cell_type": "code",
   "execution_count": 59,
   "id": "0bc4f60a",
   "metadata": {},
   "outputs": [
    {
     "data": {
      "text/html": [
       "<div>\n",
       "<style scoped>\n",
       "    .dataframe tbody tr th:only-of-type {\n",
       "        vertical-align: middle;\n",
       "    }\n",
       "\n",
       "    .dataframe tbody tr th {\n",
       "        vertical-align: top;\n",
       "    }\n",
       "\n",
       "    .dataframe thead th {\n",
       "        text-align: right;\n",
       "    }\n",
       "</style>\n",
       "<table border=\"1\" class=\"dataframe\">\n",
       "  <thead>\n",
       "    <tr style=\"text-align: right;\">\n",
       "      <th></th>\n",
       "      <th>age</th>\n",
       "      <th>anaemia</th>\n",
       "      <th>creatinine_phosphokinase</th>\n",
       "      <th>diabetes</th>\n",
       "      <th>ejection_fraction</th>\n",
       "      <th>high_blood_pressure</th>\n",
       "      <th>platelets</th>\n",
       "      <th>serum_creatinine</th>\n",
       "      <th>serum_sodium</th>\n",
       "      <th>sex</th>\n",
       "      <th>smoking</th>\n",
       "      <th>time</th>\n",
       "      <th>DEATH_EVENT</th>\n",
       "    </tr>\n",
       "  </thead>\n",
       "  <tbody>\n",
       "    <tr>\n",
       "      <th>0</th>\n",
       "      <td>75.0</td>\n",
       "      <td>0</td>\n",
       "      <td>582</td>\n",
       "      <td>0</td>\n",
       "      <td>20</td>\n",
       "      <td>1</td>\n",
       "      <td>265000.00</td>\n",
       "      <td>1.9</td>\n",
       "      <td>130</td>\n",
       "      <td>1</td>\n",
       "      <td>0</td>\n",
       "      <td>4</td>\n",
       "      <td>1</td>\n",
       "    </tr>\n",
       "    <tr>\n",
       "      <th>1</th>\n",
       "      <td>55.0</td>\n",
       "      <td>0</td>\n",
       "      <td>7861</td>\n",
       "      <td>0</td>\n",
       "      <td>38</td>\n",
       "      <td>0</td>\n",
       "      <td>263358.03</td>\n",
       "      <td>1.1</td>\n",
       "      <td>136</td>\n",
       "      <td>1</td>\n",
       "      <td>0</td>\n",
       "      <td>6</td>\n",
       "      <td>1</td>\n",
       "    </tr>\n",
       "    <tr>\n",
       "      <th>2</th>\n",
       "      <td>65.0</td>\n",
       "      <td>0</td>\n",
       "      <td>146</td>\n",
       "      <td>0</td>\n",
       "      <td>20</td>\n",
       "      <td>0</td>\n",
       "      <td>162000.00</td>\n",
       "      <td>1.3</td>\n",
       "      <td>129</td>\n",
       "      <td>1</td>\n",
       "      <td>1</td>\n",
       "      <td>7</td>\n",
       "      <td>1</td>\n",
       "    </tr>\n",
       "    <tr>\n",
       "      <th>3</th>\n",
       "      <td>50.0</td>\n",
       "      <td>1</td>\n",
       "      <td>111</td>\n",
       "      <td>0</td>\n",
       "      <td>20</td>\n",
       "      <td>0</td>\n",
       "      <td>210000.00</td>\n",
       "      <td>1.9</td>\n",
       "      <td>137</td>\n",
       "      <td>1</td>\n",
       "      <td>0</td>\n",
       "      <td>7</td>\n",
       "      <td>1</td>\n",
       "    </tr>\n",
       "    <tr>\n",
       "      <th>4</th>\n",
       "      <td>65.0</td>\n",
       "      <td>1</td>\n",
       "      <td>160</td>\n",
       "      <td>1</td>\n",
       "      <td>20</td>\n",
       "      <td>0</td>\n",
       "      <td>327000.00</td>\n",
       "      <td>2.7</td>\n",
       "      <td>116</td>\n",
       "      <td>0</td>\n",
       "      <td>0</td>\n",
       "      <td>8</td>\n",
       "      <td>1</td>\n",
       "    </tr>\n",
       "  </tbody>\n",
       "</table>\n",
       "</div>"
      ],
      "text/plain": [
       "    age  anaemia  creatinine_phosphokinase  diabetes  ejection_fraction  \\\n",
       "0  75.0        0                       582         0                 20   \n",
       "1  55.0        0                      7861         0                 38   \n",
       "2  65.0        0                       146         0                 20   \n",
       "3  50.0        1                       111         0                 20   \n",
       "4  65.0        1                       160         1                 20   \n",
       "\n",
       "   high_blood_pressure  platelets  serum_creatinine  serum_sodium  sex  \\\n",
       "0                    1  265000.00               1.9           130    1   \n",
       "1                    0  263358.03               1.1           136    1   \n",
       "2                    0  162000.00               1.3           129    1   \n",
       "3                    0  210000.00               1.9           137    1   \n",
       "4                    0  327000.00               2.7           116    0   \n",
       "\n",
       "   smoking  time  DEATH_EVENT  \n",
       "0        0     4            1  \n",
       "1        0     6            1  \n",
       "2        1     7            1  \n",
       "3        0     7            1  \n",
       "4        0     8            1  "
      ]
     },
     "execution_count": 59,
     "metadata": {},
     "output_type": "execute_result"
    }
   ],
   "source": [
    "df = pd.read_csv(\"Dataset/heart_failure_clinical_records_dataset.csv\")\n",
    "df.head()"
   ]
  },
  {
   "cell_type": "code",
   "execution_count": 60,
   "id": "2918cbc6",
   "metadata": {},
   "outputs": [
    {
     "data": {
      "text/html": [
       "<div>\n",
       "<style scoped>\n",
       "    .dataframe tbody tr th:only-of-type {\n",
       "        vertical-align: middle;\n",
       "    }\n",
       "\n",
       "    .dataframe tbody tr th {\n",
       "        vertical-align: top;\n",
       "    }\n",
       "\n",
       "    .dataframe thead th {\n",
       "        text-align: right;\n",
       "    }\n",
       "</style>\n",
       "<table border=\"1\" class=\"dataframe\">\n",
       "  <thead>\n",
       "    <tr style=\"text-align: right;\">\n",
       "      <th></th>\n",
       "      <th>age</th>\n",
       "      <th>anaemia</th>\n",
       "      <th>creatinine_phosphokinase</th>\n",
       "      <th>diabetes</th>\n",
       "      <th>ejection_fraction</th>\n",
       "      <th>high_blood_pressure</th>\n",
       "      <th>platelets</th>\n",
       "      <th>serum_creatinine</th>\n",
       "      <th>serum_sodium</th>\n",
       "      <th>sex</th>\n",
       "      <th>smoking</th>\n",
       "      <th>time</th>\n",
       "      <th>DEATH_EVENT</th>\n",
       "    </tr>\n",
       "  </thead>\n",
       "  <tbody>\n",
       "    <tr>\n",
       "      <th>294</th>\n",
       "      <td>62.0</td>\n",
       "      <td>0</td>\n",
       "      <td>61</td>\n",
       "      <td>1</td>\n",
       "      <td>38</td>\n",
       "      <td>1</td>\n",
       "      <td>155000.0</td>\n",
       "      <td>1.1</td>\n",
       "      <td>143</td>\n",
       "      <td>1</td>\n",
       "      <td>1</td>\n",
       "      <td>270</td>\n",
       "      <td>0</td>\n",
       "    </tr>\n",
       "    <tr>\n",
       "      <th>295</th>\n",
       "      <td>55.0</td>\n",
       "      <td>0</td>\n",
       "      <td>1820</td>\n",
       "      <td>0</td>\n",
       "      <td>38</td>\n",
       "      <td>0</td>\n",
       "      <td>270000.0</td>\n",
       "      <td>1.2</td>\n",
       "      <td>139</td>\n",
       "      <td>0</td>\n",
       "      <td>0</td>\n",
       "      <td>271</td>\n",
       "      <td>0</td>\n",
       "    </tr>\n",
       "    <tr>\n",
       "      <th>296</th>\n",
       "      <td>45.0</td>\n",
       "      <td>0</td>\n",
       "      <td>2060</td>\n",
       "      <td>1</td>\n",
       "      <td>60</td>\n",
       "      <td>0</td>\n",
       "      <td>742000.0</td>\n",
       "      <td>0.8</td>\n",
       "      <td>138</td>\n",
       "      <td>0</td>\n",
       "      <td>0</td>\n",
       "      <td>278</td>\n",
       "      <td>0</td>\n",
       "    </tr>\n",
       "    <tr>\n",
       "      <th>297</th>\n",
       "      <td>45.0</td>\n",
       "      <td>0</td>\n",
       "      <td>2413</td>\n",
       "      <td>0</td>\n",
       "      <td>38</td>\n",
       "      <td>0</td>\n",
       "      <td>140000.0</td>\n",
       "      <td>1.4</td>\n",
       "      <td>140</td>\n",
       "      <td>1</td>\n",
       "      <td>1</td>\n",
       "      <td>280</td>\n",
       "      <td>0</td>\n",
       "    </tr>\n",
       "    <tr>\n",
       "      <th>298</th>\n",
       "      <td>50.0</td>\n",
       "      <td>0</td>\n",
       "      <td>196</td>\n",
       "      <td>0</td>\n",
       "      <td>45</td>\n",
       "      <td>0</td>\n",
       "      <td>395000.0</td>\n",
       "      <td>1.6</td>\n",
       "      <td>136</td>\n",
       "      <td>1</td>\n",
       "      <td>1</td>\n",
       "      <td>285</td>\n",
       "      <td>0</td>\n",
       "    </tr>\n",
       "  </tbody>\n",
       "</table>\n",
       "</div>"
      ],
      "text/plain": [
       "      age  anaemia  creatinine_phosphokinase  diabetes  ejection_fraction  \\\n",
       "294  62.0        0                        61         1                 38   \n",
       "295  55.0        0                      1820         0                 38   \n",
       "296  45.0        0                      2060         1                 60   \n",
       "297  45.0        0                      2413         0                 38   \n",
       "298  50.0        0                       196         0                 45   \n",
       "\n",
       "     high_blood_pressure  platelets  serum_creatinine  serum_sodium  sex  \\\n",
       "294                    1   155000.0               1.1           143    1   \n",
       "295                    0   270000.0               1.2           139    0   \n",
       "296                    0   742000.0               0.8           138    0   \n",
       "297                    0   140000.0               1.4           140    1   \n",
       "298                    0   395000.0               1.6           136    1   \n",
       "\n",
       "     smoking  time  DEATH_EVENT  \n",
       "294        1   270            0  \n",
       "295        0   271            0  \n",
       "296        0   278            0  \n",
       "297        1   280            0  \n",
       "298        1   285            0  "
      ]
     },
     "execution_count": 60,
     "metadata": {},
     "output_type": "execute_result"
    }
   ],
   "source": [
    "df.tail()"
   ]
  },
  {
   "cell_type": "code",
   "execution_count": 61,
   "id": "3b3d7f4b",
   "metadata": {},
   "outputs": [
    {
     "data": {
      "text/html": [
       "<div>\n",
       "<style scoped>\n",
       "    .dataframe tbody tr th:only-of-type {\n",
       "        vertical-align: middle;\n",
       "    }\n",
       "\n",
       "    .dataframe tbody tr th {\n",
       "        vertical-align: top;\n",
       "    }\n",
       "\n",
       "    .dataframe thead th {\n",
       "        text-align: right;\n",
       "    }\n",
       "</style>\n",
       "<table border=\"1\" class=\"dataframe\">\n",
       "  <thead>\n",
       "    <tr style=\"text-align: right;\">\n",
       "      <th></th>\n",
       "      <th>age</th>\n",
       "      <th>anaemia</th>\n",
       "      <th>creatinine_phosphokinase</th>\n",
       "      <th>diabetes</th>\n",
       "      <th>ejection_fraction</th>\n",
       "      <th>high_blood_pressure</th>\n",
       "      <th>platelets</th>\n",
       "      <th>serum_creatinine</th>\n",
       "      <th>serum_sodium</th>\n",
       "      <th>sex</th>\n",
       "      <th>smoking</th>\n",
       "      <th>time</th>\n",
       "      <th>DEATH_EVENT</th>\n",
       "    </tr>\n",
       "  </thead>\n",
       "  <tbody>\n",
       "    <tr>\n",
       "      <th>240</th>\n",
       "      <td>70.0</td>\n",
       "      <td>0</td>\n",
       "      <td>81</td>\n",
       "      <td>1</td>\n",
       "      <td>35</td>\n",
       "      <td>1</td>\n",
       "      <td>533000.0</td>\n",
       "      <td>1.3</td>\n",
       "      <td>139</td>\n",
       "      <td>0</td>\n",
       "      <td>0</td>\n",
       "      <td>212</td>\n",
       "      <td>0</td>\n",
       "    </tr>\n",
       "    <tr>\n",
       "      <th>120</th>\n",
       "      <td>60.0</td>\n",
       "      <td>1</td>\n",
       "      <td>737</td>\n",
       "      <td>0</td>\n",
       "      <td>60</td>\n",
       "      <td>1</td>\n",
       "      <td>210000.0</td>\n",
       "      <td>1.5</td>\n",
       "      <td>135</td>\n",
       "      <td>1</td>\n",
       "      <td>1</td>\n",
       "      <td>95</td>\n",
       "      <td>0</td>\n",
       "    </tr>\n",
       "    <tr>\n",
       "      <th>108</th>\n",
       "      <td>63.0</td>\n",
       "      <td>0</td>\n",
       "      <td>936</td>\n",
       "      <td>0</td>\n",
       "      <td>38</td>\n",
       "      <td>0</td>\n",
       "      <td>304000.0</td>\n",
       "      <td>1.1</td>\n",
       "      <td>133</td>\n",
       "      <td>1</td>\n",
       "      <td>1</td>\n",
       "      <td>88</td>\n",
       "      <td>0</td>\n",
       "    </tr>\n",
       "  </tbody>\n",
       "</table>\n",
       "</div>"
      ],
      "text/plain": [
       "      age  anaemia  creatinine_phosphokinase  diabetes  ejection_fraction  \\\n",
       "240  70.0        0                        81         1                 35   \n",
       "120  60.0        1                       737         0                 60   \n",
       "108  63.0        0                       936         0                 38   \n",
       "\n",
       "     high_blood_pressure  platelets  serum_creatinine  serum_sodium  sex  \\\n",
       "240                    1   533000.0               1.3           139    0   \n",
       "120                    1   210000.0               1.5           135    1   \n",
       "108                    0   304000.0               1.1           133    1   \n",
       "\n",
       "     smoking  time  DEATH_EVENT  \n",
       "240        0   212            0  \n",
       "120        1    95            0  \n",
       "108        1    88            0  "
      ]
     },
     "execution_count": 61,
     "metadata": {},
     "output_type": "execute_result"
    }
   ],
   "source": [
    "df.sample(3)"
   ]
  },
  {
   "cell_type": "markdown",
   "id": "17d9187c",
   "metadata": {},
   "source": [
    "> Terlihat bahwa dalam dataset, tidak ada missing value"
   ]
  },
  {
   "cell_type": "code",
   "execution_count": 62,
   "id": "5c6a0302",
   "metadata": {},
   "outputs": [
    {
     "name": "stdout",
     "output_type": "stream",
     "text": [
      "There is 299 observation and 13 columns in the dataset\n",
      "Columns :  Index(['age', 'anaemia', 'creatinine_phosphokinase', 'diabetes',\n",
      "       'ejection_fraction', 'high_blood_pressure', 'platelets',\n",
      "       'serum_creatinine', 'serum_sodium', 'sex', 'smoking', 'time',\n",
      "       'DEATH_EVENT'],\n",
      "      dtype='object')\n"
     ]
    }
   ],
   "source": [
    "print(\"There is\", df.shape[0], \"observation and\", df.shape[1], \"columns in the dataset\")\n",
    "print(\"Columns : \" , df.columns)"
   ]
  },
  {
   "cell_type": "markdown",
   "id": "940a982f",
   "metadata": {},
   "source": [
    "> Dalam dataset ini terdapat 299 row dan 13 dataset termasuk target yaitu 'Death event'"
   ]
  },
  {
   "cell_type": "code",
   "execution_count": 63,
   "id": "b2f5486b",
   "metadata": {},
   "outputs": [
    {
     "name": "stdout",
     "output_type": "stream",
     "text": [
      "<class 'pandas.core.frame.DataFrame'>\n",
      "RangeIndex: 299 entries, 0 to 298\n",
      "Data columns (total 13 columns):\n",
      " #   Column                    Non-Null Count  Dtype  \n",
      "---  ------                    --------------  -----  \n",
      " 0   age                       299 non-null    float64\n",
      " 1   anaemia                   299 non-null    int64  \n",
      " 2   creatinine_phosphokinase  299 non-null    int64  \n",
      " 3   diabetes                  299 non-null    int64  \n",
      " 4   ejection_fraction         299 non-null    int64  \n",
      " 5   high_blood_pressure       299 non-null    int64  \n",
      " 6   platelets                 299 non-null    float64\n",
      " 7   serum_creatinine          299 non-null    float64\n",
      " 8   serum_sodium              299 non-null    int64  \n",
      " 9   sex                       299 non-null    int64  \n",
      " 10  smoking                   299 non-null    int64  \n",
      " 11  time                      299 non-null    int64  \n",
      " 12  DEATH_EVENT               299 non-null    int64  \n",
      "dtypes: float64(3), int64(10)\n",
      "memory usage: 30.5 KB\n"
     ]
    }
   ],
   "source": [
    "df.info()"
   ]
  },
  {
   "cell_type": "markdown",
   "id": "6cb095c5",
   "metadata": {},
   "source": [
    "> Kita dapat melihat bahwa dataset kita mencakup variabel numerik. Dan tidak ada nilai yang hilang dalam kumpulan data kami karena jumlah nilai non-null values sesuai dengan jumlah entri\n",
    "- float64 : age, platelets, serum_creatinine.\n",
    "- int64   : Kita dapat melihat kolom yang tersisa merupakan tipe data int."
   ]
  },
  {
   "cell_type": "code",
   "execution_count": 64,
   "id": "93b09286",
   "metadata": {},
   "outputs": [
    {
     "data": {
      "text/html": [
       "<div>\n",
       "<style scoped>\n",
       "    .dataframe tbody tr th:only-of-type {\n",
       "        vertical-align: middle;\n",
       "    }\n",
       "\n",
       "    .dataframe tbody tr th {\n",
       "        vertical-align: top;\n",
       "    }\n",
       "\n",
       "    .dataframe thead th {\n",
       "        text-align: right;\n",
       "    }\n",
       "</style>\n",
       "<table border=\"1\" class=\"dataframe\">\n",
       "  <thead>\n",
       "    <tr style=\"text-align: right;\">\n",
       "      <th></th>\n",
       "      <th>count</th>\n",
       "      <th>mean</th>\n",
       "      <th>std</th>\n",
       "      <th>min</th>\n",
       "      <th>25%</th>\n",
       "      <th>50%</th>\n",
       "      <th>75%</th>\n",
       "      <th>max</th>\n",
       "    </tr>\n",
       "  </thead>\n",
       "  <tbody>\n",
       "    <tr>\n",
       "      <th>age</th>\n",
       "      <td>299.0</td>\n",
       "      <td>60.833893</td>\n",
       "      <td>11.894809</td>\n",
       "      <td>40.0</td>\n",
       "      <td>51.0</td>\n",
       "      <td>60.0</td>\n",
       "      <td>70.0</td>\n",
       "      <td>95.0</td>\n",
       "    </tr>\n",
       "    <tr>\n",
       "      <th>anaemia</th>\n",
       "      <td>299.0</td>\n",
       "      <td>0.431438</td>\n",
       "      <td>0.496107</td>\n",
       "      <td>0.0</td>\n",
       "      <td>0.0</td>\n",
       "      <td>0.0</td>\n",
       "      <td>1.0</td>\n",
       "      <td>1.0</td>\n",
       "    </tr>\n",
       "    <tr>\n",
       "      <th>creatinine_phosphokinase</th>\n",
       "      <td>299.0</td>\n",
       "      <td>581.839465</td>\n",
       "      <td>970.287881</td>\n",
       "      <td>23.0</td>\n",
       "      <td>116.5</td>\n",
       "      <td>250.0</td>\n",
       "      <td>582.0</td>\n",
       "      <td>7861.0</td>\n",
       "    </tr>\n",
       "    <tr>\n",
       "      <th>diabetes</th>\n",
       "      <td>299.0</td>\n",
       "      <td>0.418060</td>\n",
       "      <td>0.494067</td>\n",
       "      <td>0.0</td>\n",
       "      <td>0.0</td>\n",
       "      <td>0.0</td>\n",
       "      <td>1.0</td>\n",
       "      <td>1.0</td>\n",
       "    </tr>\n",
       "    <tr>\n",
       "      <th>ejection_fraction</th>\n",
       "      <td>299.0</td>\n",
       "      <td>38.083612</td>\n",
       "      <td>11.834841</td>\n",
       "      <td>14.0</td>\n",
       "      <td>30.0</td>\n",
       "      <td>38.0</td>\n",
       "      <td>45.0</td>\n",
       "      <td>80.0</td>\n",
       "    </tr>\n",
       "    <tr>\n",
       "      <th>high_blood_pressure</th>\n",
       "      <td>299.0</td>\n",
       "      <td>0.351171</td>\n",
       "      <td>0.478136</td>\n",
       "      <td>0.0</td>\n",
       "      <td>0.0</td>\n",
       "      <td>0.0</td>\n",
       "      <td>1.0</td>\n",
       "      <td>1.0</td>\n",
       "    </tr>\n",
       "    <tr>\n",
       "      <th>platelets</th>\n",
       "      <td>299.0</td>\n",
       "      <td>263358.029264</td>\n",
       "      <td>97804.236869</td>\n",
       "      <td>25100.0</td>\n",
       "      <td>212500.0</td>\n",
       "      <td>262000.0</td>\n",
       "      <td>303500.0</td>\n",
       "      <td>850000.0</td>\n",
       "    </tr>\n",
       "    <tr>\n",
       "      <th>serum_creatinine</th>\n",
       "      <td>299.0</td>\n",
       "      <td>1.393880</td>\n",
       "      <td>1.034510</td>\n",
       "      <td>0.5</td>\n",
       "      <td>0.9</td>\n",
       "      <td>1.1</td>\n",
       "      <td>1.4</td>\n",
       "      <td>9.4</td>\n",
       "    </tr>\n",
       "    <tr>\n",
       "      <th>serum_sodium</th>\n",
       "      <td>299.0</td>\n",
       "      <td>136.625418</td>\n",
       "      <td>4.412477</td>\n",
       "      <td>113.0</td>\n",
       "      <td>134.0</td>\n",
       "      <td>137.0</td>\n",
       "      <td>140.0</td>\n",
       "      <td>148.0</td>\n",
       "    </tr>\n",
       "    <tr>\n",
       "      <th>sex</th>\n",
       "      <td>299.0</td>\n",
       "      <td>0.648829</td>\n",
       "      <td>0.478136</td>\n",
       "      <td>0.0</td>\n",
       "      <td>0.0</td>\n",
       "      <td>1.0</td>\n",
       "      <td>1.0</td>\n",
       "      <td>1.0</td>\n",
       "    </tr>\n",
       "    <tr>\n",
       "      <th>smoking</th>\n",
       "      <td>299.0</td>\n",
       "      <td>0.321070</td>\n",
       "      <td>0.467670</td>\n",
       "      <td>0.0</td>\n",
       "      <td>0.0</td>\n",
       "      <td>0.0</td>\n",
       "      <td>1.0</td>\n",
       "      <td>1.0</td>\n",
       "    </tr>\n",
       "    <tr>\n",
       "      <th>time</th>\n",
       "      <td>299.0</td>\n",
       "      <td>130.260870</td>\n",
       "      <td>77.614208</td>\n",
       "      <td>4.0</td>\n",
       "      <td>73.0</td>\n",
       "      <td>115.0</td>\n",
       "      <td>203.0</td>\n",
       "      <td>285.0</td>\n",
       "    </tr>\n",
       "    <tr>\n",
       "      <th>DEATH_EVENT</th>\n",
       "      <td>299.0</td>\n",
       "      <td>0.321070</td>\n",
       "      <td>0.467670</td>\n",
       "      <td>0.0</td>\n",
       "      <td>0.0</td>\n",
       "      <td>0.0</td>\n",
       "      <td>1.0</td>\n",
       "      <td>1.0</td>\n",
       "    </tr>\n",
       "  </tbody>\n",
       "</table>\n",
       "</div>"
      ],
      "text/plain": [
       "                          count           mean           std      min  \\\n",
       "age                       299.0      60.833893     11.894809     40.0   \n",
       "anaemia                   299.0       0.431438      0.496107      0.0   \n",
       "creatinine_phosphokinase  299.0     581.839465    970.287881     23.0   \n",
       "diabetes                  299.0       0.418060      0.494067      0.0   \n",
       "ejection_fraction         299.0      38.083612     11.834841     14.0   \n",
       "high_blood_pressure       299.0       0.351171      0.478136      0.0   \n",
       "platelets                 299.0  263358.029264  97804.236869  25100.0   \n",
       "serum_creatinine          299.0       1.393880      1.034510      0.5   \n",
       "serum_sodium              299.0     136.625418      4.412477    113.0   \n",
       "sex                       299.0       0.648829      0.478136      0.0   \n",
       "smoking                   299.0       0.321070      0.467670      0.0   \n",
       "time                      299.0     130.260870     77.614208      4.0   \n",
       "DEATH_EVENT               299.0       0.321070      0.467670      0.0   \n",
       "\n",
       "                               25%       50%       75%       max  \n",
       "age                           51.0      60.0      70.0      95.0  \n",
       "anaemia                        0.0       0.0       1.0       1.0  \n",
       "creatinine_phosphokinase     116.5     250.0     582.0    7861.0  \n",
       "diabetes                       0.0       0.0       1.0       1.0  \n",
       "ejection_fraction             30.0      38.0      45.0      80.0  \n",
       "high_blood_pressure            0.0       0.0       1.0       1.0  \n",
       "platelets                 212500.0  262000.0  303500.0  850000.0  \n",
       "serum_creatinine               0.9       1.1       1.4       9.4  \n",
       "serum_sodium                 134.0     137.0     140.0     148.0  \n",
       "sex                            0.0       1.0       1.0       1.0  \n",
       "smoking                        0.0       0.0       1.0       1.0  \n",
       "time                          73.0     115.0     203.0     285.0  \n",
       "DEATH_EVENT                    0.0       0.0       1.0       1.0  "
      ]
     },
     "execution_count": 64,
     "metadata": {},
     "output_type": "execute_result"
    }
   ],
   "source": [
    "df.describe().T"
   ]
  },
  {
   "cell_type": "code",
   "execution_count": 65,
   "id": "34d982cc",
   "metadata": {},
   "outputs": [
    {
     "data": {
      "text/html": [
       "<div>\n",
       "<style scoped>\n",
       "    .dataframe tbody tr th:only-of-type {\n",
       "        vertical-align: middle;\n",
       "    }\n",
       "\n",
       "    .dataframe tbody tr th {\n",
       "        vertical-align: top;\n",
       "    }\n",
       "\n",
       "    .dataframe thead th {\n",
       "        text-align: right;\n",
       "    }\n",
       "</style>\n",
       "<table border=\"1\" class=\"dataframe\">\n",
       "  <thead>\n",
       "    <tr style=\"text-align: right;\">\n",
       "      <th></th>\n",
       "      <th>Kolom Unik</th>\n",
       "    </tr>\n",
       "  </thead>\n",
       "  <tbody>\n",
       "    <tr>\n",
       "      <th>creatinine_phosphokinase</th>\n",
       "      <td>208</td>\n",
       "    </tr>\n",
       "    <tr>\n",
       "      <th>platelets</th>\n",
       "      <td>176</td>\n",
       "    </tr>\n",
       "    <tr>\n",
       "      <th>time</th>\n",
       "      <td>148</td>\n",
       "    </tr>\n",
       "    <tr>\n",
       "      <th>age</th>\n",
       "      <td>47</td>\n",
       "    </tr>\n",
       "    <tr>\n",
       "      <th>serum_creatinine</th>\n",
       "      <td>40</td>\n",
       "    </tr>\n",
       "    <tr>\n",
       "      <th>serum_sodium</th>\n",
       "      <td>27</td>\n",
       "    </tr>\n",
       "    <tr>\n",
       "      <th>ejection_fraction</th>\n",
       "      <td>17</td>\n",
       "    </tr>\n",
       "    <tr>\n",
       "      <th>anaemia</th>\n",
       "      <td>2</td>\n",
       "    </tr>\n",
       "    <tr>\n",
       "      <th>diabetes</th>\n",
       "      <td>2</td>\n",
       "    </tr>\n",
       "    <tr>\n",
       "      <th>high_blood_pressure</th>\n",
       "      <td>2</td>\n",
       "    </tr>\n",
       "    <tr>\n",
       "      <th>sex</th>\n",
       "      <td>2</td>\n",
       "    </tr>\n",
       "    <tr>\n",
       "      <th>smoking</th>\n",
       "      <td>2</td>\n",
       "    </tr>\n",
       "    <tr>\n",
       "      <th>DEATH_EVENT</th>\n",
       "      <td>2</td>\n",
       "    </tr>\n",
       "  </tbody>\n",
       "</table>\n",
       "</div>"
      ],
      "text/plain": [
       "                          Kolom Unik\n",
       "creatinine_phosphokinase         208\n",
       "platelets                        176\n",
       "time                             148\n",
       "age                               47\n",
       "serum_creatinine                  40\n",
       "serum_sodium                      27\n",
       "ejection_fraction                 17\n",
       "anaemia                            2\n",
       "diabetes                           2\n",
       "high_blood_pressure                2\n",
       "sex                                2\n",
       "smoking                            2\n",
       "DEATH_EVENT                        2"
      ]
     },
     "execution_count": 65,
     "metadata": {},
     "output_type": "execute_result"
    }
   ],
   "source": [
    "kolom_unik = df.nunique().sort_values(ascending=False)\n",
    "kolom_unik = pd.DataFrame(kolom_unik, columns = [\"Kolom Unik\"])\n",
    "kolom_unik"
   ]
  },
  {
   "cell_type": "code",
   "execution_count": 66,
   "id": "3be2b973",
   "metadata": {},
   "outputs": [
    {
     "data": {
      "text/plain": [
       "Index(['age', 'anaemia', 'creatinine_phosphokinase', 'diabetes',\n",
       "       'ejection_fraction', 'high_blood_pressure', 'platelets',\n",
       "       'serum_creatinine', 'serum_sodium', 'sex', 'smoking', 'time',\n",
       "       'DEATH_EVENT'],\n",
       "      dtype='object')"
      ]
     },
     "execution_count": 66,
     "metadata": {},
     "output_type": "execute_result"
    }
   ],
   "source": [
    "df.columns"
   ]
  },
  {
   "cell_type": "markdown",
   "id": "d7ba5405",
   "metadata": {},
   "source": [
    "> Terlihat bahwa kolom anemia, diabetes, high_blood_preassure, sex, smoking dan death event hanya memiliki 2 nilai unik"
   ]
  },
  {
   "cell_type": "code",
   "execution_count": 67,
   "id": "7cf4888c",
   "metadata": {},
   "outputs": [
    {
     "name": "stdout",
     "output_type": "stream",
     "text": [
      "0    203\n",
      "1     96\n",
      "Name: DEATH_EVENT, dtype: int64\n"
     ]
    }
   ],
   "source": [
    "print(df['DEATH_EVENT'].value_counts())"
   ]
  },
  {
   "cell_type": "markdown",
   "id": "70d08286",
   "metadata": {},
   "source": [
    "# Data Cleaning"
   ]
  },
  {
   "cell_type": "markdown",
   "id": "54a606ec",
   "metadata": {},
   "source": [
    "### Mengecek duplikat"
   ]
  },
  {
   "cell_type": "code",
   "execution_count": 68,
   "id": "edf0b55b",
   "metadata": {},
   "outputs": [
    {
     "data": {
      "text/plain": [
       "False"
      ]
     },
     "execution_count": 68,
     "metadata": {},
     "output_type": "execute_result"
    }
   ],
   "source": [
    "df.duplicated().any()"
   ]
  },
  {
   "cell_type": "code",
   "execution_count": 69,
   "id": "2ff6729d",
   "metadata": {},
   "outputs": [
    {
     "data": {
      "text/plain": [
       "0"
      ]
     },
     "execution_count": 69,
     "metadata": {},
     "output_type": "execute_result"
    }
   ],
   "source": [
    "df.duplicated().sum()"
   ]
  },
  {
   "cell_type": "markdown",
   "id": "41c1add7",
   "metadata": {},
   "source": [
    "> Dalam dataset ini tidak terdapat duplikat data"
   ]
  },
  {
   "cell_type": "markdown",
   "id": "660c711e",
   "metadata": {},
   "source": [
    "### Mengecek missing value"
   ]
  },
  {
   "cell_type": "code",
   "execution_count": 70,
   "id": "b2f9dd9e",
   "metadata": {},
   "outputs": [
    {
     "data": {
      "text/html": [
       "<div>\n",
       "<style scoped>\n",
       "    .dataframe tbody tr th:only-of-type {\n",
       "        vertical-align: middle;\n",
       "    }\n",
       "\n",
       "    .dataframe tbody tr th {\n",
       "        vertical-align: top;\n",
       "    }\n",
       "\n",
       "    .dataframe thead th {\n",
       "        text-align: right;\n",
       "    }\n",
       "</style>\n",
       "<table border=\"1\" class=\"dataframe\">\n",
       "  <thead>\n",
       "    <tr style=\"text-align: right;\">\n",
       "      <th></th>\n",
       "      <th>Missing Values</th>\n",
       "    </tr>\n",
       "  </thead>\n",
       "  <tbody>\n",
       "    <tr>\n",
       "      <th>age</th>\n",
       "      <td>0</td>\n",
       "    </tr>\n",
       "    <tr>\n",
       "      <th>anaemia</th>\n",
       "      <td>0</td>\n",
       "    </tr>\n",
       "    <tr>\n",
       "      <th>creatinine_phosphokinase</th>\n",
       "      <td>0</td>\n",
       "    </tr>\n",
       "    <tr>\n",
       "      <th>diabetes</th>\n",
       "      <td>0</td>\n",
       "    </tr>\n",
       "    <tr>\n",
       "      <th>ejection_fraction</th>\n",
       "      <td>0</td>\n",
       "    </tr>\n",
       "    <tr>\n",
       "      <th>high_blood_pressure</th>\n",
       "      <td>0</td>\n",
       "    </tr>\n",
       "    <tr>\n",
       "      <th>platelets</th>\n",
       "      <td>0</td>\n",
       "    </tr>\n",
       "    <tr>\n",
       "      <th>serum_creatinine</th>\n",
       "      <td>0</td>\n",
       "    </tr>\n",
       "    <tr>\n",
       "      <th>serum_sodium</th>\n",
       "      <td>0</td>\n",
       "    </tr>\n",
       "    <tr>\n",
       "      <th>sex</th>\n",
       "      <td>0</td>\n",
       "    </tr>\n",
       "    <tr>\n",
       "      <th>smoking</th>\n",
       "      <td>0</td>\n",
       "    </tr>\n",
       "    <tr>\n",
       "      <th>time</th>\n",
       "      <td>0</td>\n",
       "    </tr>\n",
       "    <tr>\n",
       "      <th>DEATH_EVENT</th>\n",
       "      <td>0</td>\n",
       "    </tr>\n",
       "  </tbody>\n",
       "</table>\n",
       "</div>"
      ],
      "text/plain": [
       "                          Missing Values\n",
       "age                                    0\n",
       "anaemia                                0\n",
       "creatinine_phosphokinase               0\n",
       "diabetes                               0\n",
       "ejection_fraction                      0\n",
       "high_blood_pressure                    0\n",
       "platelets                              0\n",
       "serum_creatinine                       0\n",
       "serum_sodium                           0\n",
       "sex                                    0\n",
       "smoking                                0\n",
       "time                                   0\n",
       "DEATH_EVENT                            0"
      ]
     },
     "execution_count": 70,
     "metadata": {},
     "output_type": "execute_result"
    }
   ],
   "source": [
    "isna = df.isnull().sum().sort_values(ascending=False)\n",
    "isnaa = pd.DataFrame(isna, columns = [\"Missing Values\"])\n",
    "isnaa"
   ]
  },
  {
   "cell_type": "markdown",
   "id": "f189d753",
   "metadata": {},
   "source": [
    "> Dalam dataset ini tidak terdapat missing values"
   ]
  },
  {
   "cell_type": "markdown",
   "id": "23db6d72",
   "metadata": {},
   "source": [
    "### Mengecek Outliers"
   ]
  },
  {
   "cell_type": "code",
   "execution_count": 71,
   "id": "214c03e8",
   "metadata": {},
   "outputs": [],
   "source": [
    "categoricals = [\"anaemia\",\"diabetes\",\"high_blood_pressure\",\"sex\",\"smoking\",\"DEATH_EVENT\"]\n",
    "numericals   = [\"age\",\"creatinine_phosphokinase\",\"ejection_fraction\",\"platelets\",\"serum_creatinine\",\"serum_sodium\",\"time\"]"
   ]
  },
  {
   "cell_type": "code",
   "execution_count": 72,
   "id": "061ee10d",
   "metadata": {},
   "outputs": [
    {
     "name": "stderr",
     "output_type": "stream",
     "text": [
      "c:\\users\\asus\\appdata\\local\\programs\\python\\python38\\lib\\site-packages\\seaborn\\_decorators.py:36: FutureWarning: Pass the following variable as a keyword arg: x. From version 0.12, the only valid positional argument will be `data`, and passing other arguments without an explicit keyword will result in an error or misinterpretation.\n",
      "  warnings.warn(\n",
      "c:\\users\\asus\\appdata\\local\\programs\\python\\python38\\lib\\site-packages\\seaborn\\_decorators.py:36: FutureWarning: Pass the following variable as a keyword arg: x. From version 0.12, the only valid positional argument will be `data`, and passing other arguments without an explicit keyword will result in an error or misinterpretation.\n",
      "  warnings.warn(\n",
      "c:\\users\\asus\\appdata\\local\\programs\\python\\python38\\lib\\site-packages\\seaborn\\_decorators.py:36: FutureWarning: Pass the following variable as a keyword arg: x. From version 0.12, the only valid positional argument will be `data`, and passing other arguments without an explicit keyword will result in an error or misinterpretation.\n",
      "  warnings.warn(\n",
      "c:\\users\\asus\\appdata\\local\\programs\\python\\python38\\lib\\site-packages\\seaborn\\_decorators.py:36: FutureWarning: Pass the following variable as a keyword arg: x. From version 0.12, the only valid positional argument will be `data`, and passing other arguments without an explicit keyword will result in an error or misinterpretation.\n",
      "  warnings.warn(\n",
      "c:\\users\\asus\\appdata\\local\\programs\\python\\python38\\lib\\site-packages\\seaborn\\_decorators.py:36: FutureWarning: Pass the following variable as a keyword arg: x. From version 0.12, the only valid positional argument will be `data`, and passing other arguments without an explicit keyword will result in an error or misinterpretation.\n",
      "  warnings.warn(\n",
      "c:\\users\\asus\\appdata\\local\\programs\\python\\python38\\lib\\site-packages\\seaborn\\_decorators.py:36: FutureWarning: Pass the following variable as a keyword arg: x. From version 0.12, the only valid positional argument will be `data`, and passing other arguments without an explicit keyword will result in an error or misinterpretation.\n",
      "  warnings.warn(\n"
     ]
    },
    {
     "data": {
      "image/png": "[encoded data removed]",
      "text/plain": [
       "<Figure size 1080x360 with 3 Axes>"
      ]
     },
     "metadata": {
      "needs_background": "light"
     },
     "output_type": "display_data"
    },
    {
     "data": {
      "image/png": "[encoded data removed]",
      "text/plain": [
       "<Figure size 1080x360 with 3 Axes>"
      ]
     },
     "metadata": {
      "needs_background": "light"
     },
     "output_type": "display_data"
    }
   ],
   "source": [
    "# individual count plot (categorical)\n",
    "part = math.ceil(len(categoricals)/3)\n",
    "awal = 0\n",
    "for i in range(1, part+1):\n",
    "  if i != part:\n",
    "    akhir = 3*i\n",
    "  else:\n",
    "    akhir = len(categoricals)\n",
    "\n",
    "  plt.figure(figsize=(15,5))\n",
    "  k = 0\n",
    "\n",
    "  for j in range(awal, akhir):\n",
    "    k = k+1\n",
    "    plt.subplot(1, 3, k)\n",
    "    sns.countplot(df[categoricals[j]], color=\"green\", edgecolor = \"black\", linewidth = 1)\n",
    "    plt.tight_layout()\n",
    "  \n",
    "  awal = akhir"
   ]
  },
  {
   "cell_type": "code",
   "execution_count": 73,
   "id": "65aaea6f",
   "metadata": {},
   "outputs": [
    {
     "data": {
      "image/png": "[encoded data removed]",
      "text/plain": [
       "<Figure size 864x360 with 4 Axes>"
      ]
     },
     "metadata": {
      "needs_background": "light"
     },
     "output_type": "display_data"
    },
    {
     "data": {
      "image/png": "[encoded data removed]",
      "text/plain": [
       "<Figure size 864x360 with 3 Axes>"
      ]
     },
     "metadata": {
      "needs_background": "light"
     },
     "output_type": "display_data"
    }
   ],
   "source": [
    "# individual boxplot (numeric)\n",
    "part = math.ceil(len(numericals)/4)\n",
    "awal = 0\n",
    "for i in range(1, part+1):\n",
    "  if i != part:\n",
    "    akhir = 4*i\n",
    "  else:\n",
    "    akhir = len(numericals)\n",
    "\n",
    "  plt.figure(figsize=(12,5))\n",
    "  k = 0\n",
    "\n",
    "  for j in range(awal, akhir):\n",
    "    k = k+1\n",
    "    plt.subplot(1, 4, k)\n",
    "    sns.boxplot(y=df[numericals[j]], color=\"green\", orient=\"v\")\n",
    "    plt.tight_layout()\n",
    "  \n",
    "  awal = akhir"
   ]
  },
  {
   "cell_type": "code",
   "execution_count": 74,
   "id": "eb8d840b",
   "metadata": {},
   "outputs": [],
   "source": [
    "lsUpper = []\n",
    "lsLower = []\n",
    "def removeOutliers(numericals):\n",
    "    for i in range(len(numericals)):\n",
    "        q1 = df[numericals[i]].quantile(0.25)\n",
    "        q3 = df[numericals[i]].quantile(0.75)\n",
    "        IQR = q3-q1\n",
    "        minimum = q1 - 1.5 * IQR\n",
    "        maximum = q3 + 1.5 * IQR\n",
    "        df.loc[(df[numericals[i]] <= minimum), numericals[i]] = minimum\n",
    "        df.loc[(df[numericals[i]] >= maximum), numericals[i]] = maximum  \n",
    "removeOutliers(numericals)"
   ]
  },
  {
   "cell_type": "code",
   "execution_count": 75,
   "id": "b0958fc9",
   "metadata": {},
   "outputs": [
    {
     "data": {
      "image/png": "[encoded data removed]",
      "text/plain": [
       "<Figure size 864x360 with 4 Axes>"
      ]
     },
     "metadata": {
      "needs_background": "light"
     },
     "output_type": "display_data"
    },
    {
     "data": {
      "image/png": "[encoded data removed]",
      "text/plain": [
       "<Figure size 864x360 with 3 Axes>"
      ]
     },
     "metadata": {
      "needs_background": "light"
     },
     "output_type": "display_data"
    }
   ],
   "source": [
    "# individual boxplot (numeric)\n",
    "part = math.ceil(len(numericals)/4)\n",
    "awal = 0\n",
    "for i in range(1, part+1):\n",
    "  if i != part:\n",
    "    akhir = 4*i\n",
    "  else:\n",
    "    akhir = len(numericals)\n",
    "\n",
    "  plt.figure(figsize=(12,5))\n",
    "  k = 0\n",
    "\n",
    "  for j in range(awal, akhir):\n",
    "    k = k+1\n",
    "    plt.subplot(1, 4, k)\n",
    "    sns.boxplot(y=df[numericals[j]], color=\"green\", orient=\"v\")\n",
    "    plt.tight_layout()\n",
    "  \n",
    "  awal = akhir"
   ]
  },
  {
   "cell_type": "markdown",
   "id": "32b0b0df",
   "metadata": {},
   "source": [
    "### Mengecek Skewness"
   ]
  },
  {
   "cell_type": "code",
   "execution_count": 76,
   "id": "199dd0ae",
   "metadata": {},
   "outputs": [
    {
     "data": {
      "text/html": [
       "<div>\n",
       "<style scoped>\n",
       "    .dataframe tbody tr th:only-of-type {\n",
       "        vertical-align: middle;\n",
       "    }\n",
       "\n",
       "    .dataframe tbody tr th {\n",
       "        vertical-align: top;\n",
       "    }\n",
       "\n",
       "    .dataframe thead th {\n",
       "        text-align: right;\n",
       "    }\n",
       "</style>\n",
       "<table border=\"1\" class=\"dataframe\">\n",
       "  <thead>\n",
       "    <tr style=\"text-align: right;\">\n",
       "      <th></th>\n",
       "      <th>Skewed</th>\n",
       "    </tr>\n",
       "  </thead>\n",
       "  <tbody>\n",
       "    <tr>\n",
       "      <th>creatinine_phosphokinase</th>\n",
       "      <td>1.065222</td>\n",
       "    </tr>\n",
       "    <tr>\n",
       "      <th>serum_creatinine</th>\n",
       "      <td>0.900749</td>\n",
       "    </tr>\n",
       "    <tr>\n",
       "      <th>DEATH_EVENT</th>\n",
       "      <td>0.766479</td>\n",
       "    </tr>\n",
       "    <tr>\n",
       "      <th>smoking</th>\n",
       "      <td>0.766479</td>\n",
       "    </tr>\n",
       "    <tr>\n",
       "      <th>high_blood_pressure</th>\n",
       "      <td>0.623583</td>\n",
       "    </tr>\n",
       "    <tr>\n",
       "      <th>ejection_fraction</th>\n",
       "      <td>0.470551</td>\n",
       "    </tr>\n",
       "    <tr>\n",
       "      <th>age</th>\n",
       "      <td>0.420937</td>\n",
       "    </tr>\n",
       "    <tr>\n",
       "      <th>diabetes</th>\n",
       "      <td>0.332251</td>\n",
       "    </tr>\n",
       "    <tr>\n",
       "      <th>anaemia</th>\n",
       "      <td>0.276863</td>\n",
       "    </tr>\n",
       "    <tr>\n",
       "      <th>platelets</th>\n",
       "      <td>0.241257</td>\n",
       "    </tr>\n",
       "    <tr>\n",
       "      <th>time</th>\n",
       "      <td>0.127161</td>\n",
       "    </tr>\n",
       "    <tr>\n",
       "      <th>serum_sodium</th>\n",
       "      <td>-0.319577</td>\n",
       "    </tr>\n",
       "    <tr>\n",
       "      <th>sex</th>\n",
       "      <td>-0.623583</td>\n",
       "    </tr>\n",
       "  </tbody>\n",
       "</table>\n",
       "</div>"
      ],
      "text/plain": [
       "                            Skewed\n",
       "creatinine_phosphokinase  1.065222\n",
       "serum_creatinine          0.900749\n",
       "DEATH_EVENT               0.766479\n",
       "smoking                   0.766479\n",
       "high_blood_pressure       0.623583\n",
       "ejection_fraction         0.470551\n",
       "age                       0.420937\n",
       "diabetes                  0.332251\n",
       "anaemia                   0.276863\n",
       "platelets                 0.241257\n",
       "time                      0.127161\n",
       "serum_sodium             -0.319577\n",
       "sex                      -0.623583"
      ]
     },
     "execution_count": 76,
     "metadata": {},
     "output_type": "execute_result"
    }
   ],
   "source": [
    "skewed   = df.apply(lambda x: skew(x.dropna())).sort_values(ascending = False)\n",
    "skewness = pd.DataFrame(skewed, columns = [\"Skewed\"])\n",
    "skewness"
   ]
  },
  {
   "cell_type": "markdown",
   "id": "c35ecefa",
   "metadata": {},
   "source": [
    "> Terlihat bahwa dalam dataset creatine_phosphokinase dan serum_creatinine memiliki nilai skewed cukup tinggi diantara yang lain."
   ]
  },
  {
   "cell_type": "code",
   "execution_count": 77,
   "id": "869eecd6",
   "metadata": {},
   "outputs": [],
   "source": [
    "data_skew=[\"creatinine_phosphokinase\",\"serum_creatinine\"]"
   ]
  },
  {
   "cell_type": "code",
   "execution_count": 78,
   "id": "43a28f2d",
   "metadata": {},
   "outputs": [
    {
     "name": "stderr",
     "output_type": "stream",
     "text": [
      "c:\\users\\asus\\appdata\\local\\programs\\python\\python38\\lib\\site-packages\\seaborn\\distributions.py:2619: FutureWarning: `distplot` is a deprecated function and will be removed in a future version. Please adapt your code to use either `displot` (a figure-level function with similar flexibility) or `histplot` (an axes-level function for histograms).\n",
      "  warnings.warn(msg, FutureWarning)\n",
      "c:\\users\\asus\\appdata\\local\\programs\\python\\python38\\lib\\site-packages\\seaborn\\distributions.py:2619: FutureWarning: `distplot` is a deprecated function and will be removed in a future version. Please adapt your code to use either `displot` (a figure-level function with similar flexibility) or `histplot` (an axes-level function for histograms).\n",
      "  warnings.warn(msg, FutureWarning)\n"
     ]
    },
    {
     "data": {
      "image/png": "[encoded data removed]",
      "text/plain": [
       "<Figure size 1080x360 with 2 Axes>"
      ]
     },
     "metadata": {
      "needs_background": "light"
     },
     "output_type": "display_data"
    }
   ],
   "source": [
    "part = math.ceil(len(data_skew)/2)\n",
    "awal = 0\n",
    "for i in range(1, part+1):\n",
    "  if i != part:\n",
    "    akhir = 2*i\n",
    "  else:\n",
    "    akhir = len(data_skew)\n",
    "\n",
    "  plt.figure(figsize=(15,5))\n",
    "  k = 0\n",
    "\n",
    "  for j in range(awal, akhir):\n",
    "    k = k+1\n",
    "    plt.subplot(1, 2, k)\n",
    "    sns.distplot(df[data_skew[j]], fit = norm)\n",
    "    plt.tight_layout()\n",
    "  \n",
    "  awal = akhir"
   ]
  },
  {
   "cell_type": "code",
   "execution_count": 79,
   "id": "5bc5f692",
   "metadata": {},
   "outputs": [],
   "source": [
    "df[\"creatinine_phosphokinase\"], lam = boxcox(df[\"creatinine_phosphokinase\"])\n",
    "df[\"serum_creatinine\"], lam = boxcox(df[\"serum_creatinine\"])"
   ]
  },
  {
   "cell_type": "code",
   "execution_count": 80,
   "id": "08c73315",
   "metadata": {},
   "outputs": [
    {
     "name": "stderr",
     "output_type": "stream",
     "text": [
      "c:\\users\\asus\\appdata\\local\\programs\\python\\python38\\lib\\site-packages\\seaborn\\distributions.py:2619: FutureWarning: `distplot` is a deprecated function and will be removed in a future version. Please adapt your code to use either `displot` (a figure-level function with similar flexibility) or `histplot` (an axes-level function for histograms).\n",
      "  warnings.warn(msg, FutureWarning)\n",
      "c:\\users\\asus\\appdata\\local\\programs\\python\\python38\\lib\\site-packages\\seaborn\\distributions.py:2619: FutureWarning: `distplot` is a deprecated function and will be removed in a future version. Please adapt your code to use either `displot` (a figure-level function with similar flexibility) or `histplot` (an axes-level function for histograms).\n",
      "  warnings.warn(msg, FutureWarning)\n"
     ]
    },
    {
     "data": {
      "image/png": "[encoded data removed]",
      "text/plain": [
       "<Figure size 1080x360 with 2 Axes>"
      ]
     },
     "metadata": {
      "needs_background": "light"
     },
     "output_type": "display_data"
    }
   ],
   "source": [
    "part = math.ceil(len(data_skew)/2)\n",
    "awal = 0\n",
    "for i in range(1, part+1):\n",
    "  if i != part:\n",
    "    akhir = 2*i\n",
    "  else:\n",
    "    akhir = len(data_skew)\n",
    "\n",
    "  plt.figure(figsize=(15,5))\n",
    "  k = 0\n",
    "\n",
    "  for j in range(awal, akhir):\n",
    "    k = k+1\n",
    "    plt.subplot(1, 2, k)\n",
    "    sns.distplot(df[data_skew[j]], fit = norm)\n",
    "    plt.tight_layout()\n",
    "  \n",
    "  awal = akhir"
   ]
  },
  {
   "cell_type": "code",
   "execution_count": 81,
   "id": "6d06dacc",
   "metadata": {},
   "outputs": [
    {
     "data": {
      "text/html": [
       "<div>\n",
       "<style scoped>\n",
       "    .dataframe tbody tr th:only-of-type {\n",
       "        vertical-align: middle;\n",
       "    }\n",
       "\n",
       "    .dataframe tbody tr th {\n",
       "        vertical-align: top;\n",
       "    }\n",
       "\n",
       "    .dataframe thead th {\n",
       "        text-align: right;\n",
       "    }\n",
       "</style>\n",
       "<table border=\"1\" class=\"dataframe\">\n",
       "  <thead>\n",
       "    <tr style=\"text-align: right;\">\n",
       "      <th></th>\n",
       "      <th>skewed</th>\n",
       "    </tr>\n",
       "  </thead>\n",
       "  <tbody>\n",
       "    <tr>\n",
       "      <th>DEATH_EVENT</th>\n",
       "      <td>0.766479</td>\n",
       "    </tr>\n",
       "    <tr>\n",
       "      <th>smoking</th>\n",
       "      <td>0.766479</td>\n",
       "    </tr>\n",
       "    <tr>\n",
       "      <th>high_blood_pressure</th>\n",
       "      <td>0.623583</td>\n",
       "    </tr>\n",
       "    <tr>\n",
       "      <th>ejection_fraction</th>\n",
       "      <td>0.470551</td>\n",
       "    </tr>\n",
       "    <tr>\n",
       "      <th>age</th>\n",
       "      <td>0.420937</td>\n",
       "    </tr>\n",
       "    <tr>\n",
       "      <th>diabetes</th>\n",
       "      <td>0.332251</td>\n",
       "    </tr>\n",
       "    <tr>\n",
       "      <th>anaemia</th>\n",
       "      <td>0.276863</td>\n",
       "    </tr>\n",
       "    <tr>\n",
       "      <th>platelets</th>\n",
       "      <td>0.241257</td>\n",
       "    </tr>\n",
       "    <tr>\n",
       "      <th>time</th>\n",
       "      <td>0.127161</td>\n",
       "    </tr>\n",
       "    <tr>\n",
       "      <th>serum_creatinine</th>\n",
       "      <td>0.030420</td>\n",
       "    </tr>\n",
       "    <tr>\n",
       "      <th>creatinine_phosphokinase</th>\n",
       "      <td>-0.009431</td>\n",
       "    </tr>\n",
       "    <tr>\n",
       "      <th>serum_sodium</th>\n",
       "      <td>-0.319577</td>\n",
       "    </tr>\n",
       "    <tr>\n",
       "      <th>sex</th>\n",
       "      <td>-0.623583</td>\n",
       "    </tr>\n",
       "  </tbody>\n",
       "</table>\n",
       "</div>"
      ],
      "text/plain": [
       "                            skewed\n",
       "DEATH_EVENT               0.766479\n",
       "smoking                   0.766479\n",
       "high_blood_pressure       0.623583\n",
       "ejection_fraction         0.470551\n",
       "age                       0.420937\n",
       "diabetes                  0.332251\n",
       "anaemia                   0.276863\n",
       "platelets                 0.241257\n",
       "time                      0.127161\n",
       "serum_creatinine          0.030420\n",
       "creatinine_phosphokinase -0.009431\n",
       "serum_sodium             -0.319577\n",
       "sex                      -0.623583"
      ]
     },
     "execution_count": 81,
     "metadata": {},
     "output_type": "execute_result"
    }
   ],
   "source": [
    "skewed   = df.apply(lambda x: skew(x.dropna())).sort_values(ascending = False)\n",
    "skewness = pd.DataFrame(skewed, columns = [\"skewed\"])\n",
    "skewness"
   ]
  },
  {
   "cell_type": "markdown",
   "id": "f5d27dfa",
   "metadata": {},
   "source": [
    "# Exploratory Data Analysis (EDA)"
   ]
  },
  {
   "cell_type": "code",
   "execution_count": 82,
   "id": "68f81c23",
   "metadata": {},
   "outputs": [],
   "source": [
    "# meng-copy df dengan fitur sex dan death event ke dalam variabel baru\n",
    "df_eda = df.copy()\n",
    "\n",
    "# mengubah value 0 dan 1 (untuk visualisasi)\n",
    "df_eda['DEATH_EVENT'].replace({0:'survived', 1: 'not survived'}, inplace=True)\n",
    "df_eda['sex'].replace({0:'female', 1:'male'}, inplace=True)\n",
    "df_eda['smoking'].replace({0:'no', 1:'yes'}, inplace=True)\n",
    "df_eda['diabetes'].replace({0:'no', 1:'yes'}, inplace=True)\n",
    "df_eda['anaemia'].replace({0:'no', 1:'yes'}, inplace=True)\n",
    "df_eda['high_blood_pressure'].replace({0:'no', 1:'yes'}, inplace=True)"
   ]
  },
  {
   "cell_type": "code",
   "execution_count": 83,
   "id": "9b36d453",
   "metadata": {},
   "outputs": [
    {
     "data": {
      "image/png": "[encoded data removed]",
      "text/plain": [
       "<Figure size 576x432 with 1 Axes>"
      ]
     },
     "metadata": {
      "needs_background": "light"
     },
     "output_type": "display_data"
    }
   ],
   "source": [
    "plt.figure(figsize=(8, 6))\n",
    " \n",
    "plt.title('Distribusi Death event', fontsize=18 , fontweight='bold')\n",
    "plt.grid(axis='y', alpha=0.5)\n",
    "sns.countplot(x ='DEATH_EVENT', data = df_eda, palette = ['#e91989', \"#a1e000\"], edgecolor = \"black\", linewidth =1)\n",
    "\n",
    "plt.show()"
   ]
  },
  {
   "cell_type": "code",
   "execution_count": 84,
   "id": "71272523",
   "metadata": {},
   "outputs": [
    {
     "data": {
      "image/png": "[encoded data removed]",
      "text/plain": [
       "<Figure size 1296x648 with 5 Axes>"
      ]
     },
     "metadata": {
      "needs_background": "light"
     },
     "output_type": "display_data"
    }
   ],
   "source": [
    "categoricals1 = [\"anaemia\",\"diabetes\",\"high_blood_pressure\",\"sex\",\"smoking\"]\n",
    "\n",
    "fig = plt.figure(figsize=(18, 9))\n",
    "for i, var in enumerate(categoricals1):\n",
    "    plt.subplot(2, 3, i+1)\n",
    "    plt.title(var, fontsize=14, fontweight='bold')\n",
    "    plt.xlabel(var, fontsize=12)\n",
    "    plt.ylabel(\"Count\", fontsize=12)\n",
    "    plt.grid(axis='y', alpha=0.3)\n",
    "    plt.subplots_adjust(hspace = 0.4, wspace = 0.4)\n",
    "    sns.countplot(data= df_eda, x = var, hue=\"DEATH_EVENT\", palette = ['#e91989', \"#a1e000\"])\n",
    "\n",
    "fig.suptitle('Distribusi Categorical Variable', fontsize=16, fontweight='bold');"
   ]
  },
  {
   "cell_type": "code",
   "execution_count": 85,
   "id": "f66c4499",
   "metadata": {},
   "outputs": [
    {
     "data": {
      "text/html": [
       "<div>\n",
       "<style scoped>\n",
       "    .dataframe tbody tr th:only-of-type {\n",
       "        vertical-align: middle;\n",
       "    }\n",
       "\n",
       "    .dataframe tbody tr th {\n",
       "        vertical-align: top;\n",
       "    }\n",
       "\n",
       "    .dataframe thead th {\n",
       "        text-align: right;\n",
       "    }\n",
       "</style>\n",
       "<table border=\"1\" class=\"dataframe\">\n",
       "  <thead>\n",
       "    <tr style=\"text-align: right;\">\n",
       "      <th></th>\n",
       "      <th>age</th>\n",
       "      <th>anaemia</th>\n",
       "      <th>creatinine_phosphokinase</th>\n",
       "      <th>diabetes</th>\n",
       "      <th>ejection_fraction</th>\n",
       "      <th>high_blood_pressure</th>\n",
       "      <th>platelets</th>\n",
       "      <th>serum_creatinine</th>\n",
       "      <th>serum_sodium</th>\n",
       "      <th>sex</th>\n",
       "      <th>smoking</th>\n",
       "      <th>time</th>\n",
       "      <th>DEATH_EVENT</th>\n",
       "    </tr>\n",
       "  </thead>\n",
       "  <tbody>\n",
       "    <tr>\n",
       "      <th>age</th>\n",
       "      <td>1.000000</td>\n",
       "      <td>0.088006</td>\n",
       "      <td>-0.088770</td>\n",
       "      <td>-0.101012</td>\n",
       "      <td>0.066056</td>\n",
       "      <td>0.093289</td>\n",
       "      <td>-0.034159</td>\n",
       "      <td>0.264939</td>\n",
       "      <td>-0.052425</td>\n",
       "      <td>0.065430</td>\n",
       "      <td>0.018668</td>\n",
       "      <td>-0.224068</td>\n",
       "      <td>0.253729</td>\n",
       "    </tr>\n",
       "    <tr>\n",
       "      <th>anaemia</th>\n",
       "      <td>0.088006</td>\n",
       "      <td>1.000000</td>\n",
       "      <td>-0.215563</td>\n",
       "      <td>-0.012729</td>\n",
       "      <td>0.034259</td>\n",
       "      <td>0.038182</td>\n",
       "      <td>-0.029060</td>\n",
       "      <td>-0.009069</td>\n",
       "      <td>0.048286</td>\n",
       "      <td>-0.094769</td>\n",
       "      <td>-0.107290</td>\n",
       "      <td>-0.141414</td>\n",
       "      <td>0.066270</td>\n",
       "    </tr>\n",
       "    <tr>\n",
       "      <th>creatinine_phosphokinase</th>\n",
       "      <td>-0.088770</td>\n",
       "      <td>-0.215563</td>\n",
       "      <td>1.000000</td>\n",
       "      <td>0.041635</td>\n",
       "      <td>-0.074005</td>\n",
       "      <td>-0.072321</td>\n",
       "      <td>0.003849</td>\n",
       "      <td>-0.054158</td>\n",
       "      <td>0.006865</td>\n",
       "      <td>0.015954</td>\n",
       "      <td>-0.033104</td>\n",
       "      <td>0.119821</td>\n",
       "      <td>0.021085</td>\n",
       "    </tr>\n",
       "    <tr>\n",
       "      <th>diabetes</th>\n",
       "      <td>-0.101012</td>\n",
       "      <td>-0.012729</td>\n",
       "      <td>0.041635</td>\n",
       "      <td>1.000000</td>\n",
       "      <td>-0.001267</td>\n",
       "      <td>-0.012732</td>\n",
       "      <td>0.070419</td>\n",
       "      <td>0.005884</td>\n",
       "      <td>-0.071714</td>\n",
       "      <td>-0.157730</td>\n",
       "      <td>-0.147173</td>\n",
       "      <td>0.033726</td>\n",
       "      <td>-0.001943</td>\n",
       "    </tr>\n",
       "    <tr>\n",
       "      <th>ejection_fraction</th>\n",
       "      <td>0.066056</td>\n",
       "      <td>0.034259</td>\n",
       "      <td>-0.074005</td>\n",
       "      <td>-0.001267</td>\n",
       "      <td>1.000000</td>\n",
       "      <td>0.026419</td>\n",
       "      <td>0.068474</td>\n",
       "      <td>-0.165654</td>\n",
       "      <td>0.181716</td>\n",
       "      <td>-0.144435</td>\n",
       "      <td>-0.065217</td>\n",
       "      <td>0.044765</td>\n",
       "      <td>-0.270611</td>\n",
       "    </tr>\n",
       "    <tr>\n",
       "      <th>high_blood_pressure</th>\n",
       "      <td>0.093289</td>\n",
       "      <td>0.038182</td>\n",
       "      <td>-0.072321</td>\n",
       "      <td>-0.012732</td>\n",
       "      <td>0.026419</td>\n",
       "      <td>1.000000</td>\n",
       "      <td>0.073361</td>\n",
       "      <td>-0.082282</td>\n",
       "      <td>0.026167</td>\n",
       "      <td>-0.104615</td>\n",
       "      <td>-0.055711</td>\n",
       "      <td>-0.196439</td>\n",
       "      <td>0.079351</td>\n",
       "    </tr>\n",
       "    <tr>\n",
       "      <th>platelets</th>\n",
       "      <td>-0.034159</td>\n",
       "      <td>-0.029060</td>\n",
       "      <td>0.003849</td>\n",
       "      <td>0.070419</td>\n",
       "      <td>0.068474</td>\n",
       "      <td>0.073361</td>\n",
       "      <td>1.000000</td>\n",
       "      <td>-0.057856</td>\n",
       "      <td>0.054313</td>\n",
       "      <td>-0.124212</td>\n",
       "      <td>0.012990</td>\n",
       "      <td>-0.003807</td>\n",
       "      <td>-0.044132</td>\n",
       "    </tr>\n",
       "    <tr>\n",
       "      <th>serum_creatinine</th>\n",
       "      <td>0.264939</td>\n",
       "      <td>-0.009069</td>\n",
       "      <td>-0.054158</td>\n",
       "      <td>0.005884</td>\n",
       "      <td>-0.165654</td>\n",
       "      <td>-0.082282</td>\n",
       "      <td>-0.057856</td>\n",
       "      <td>1.000000</td>\n",
       "      <td>-0.263340</td>\n",
       "      <td>0.043781</td>\n",
       "      <td>-0.041944</td>\n",
       "      <td>-0.157832</td>\n",
       "      <td>0.373510</td>\n",
       "    </tr>\n",
       "    <tr>\n",
       "      <th>serum_sodium</th>\n",
       "      <td>-0.052425</td>\n",
       "      <td>0.048286</td>\n",
       "      <td>0.006865</td>\n",
       "      <td>-0.071714</td>\n",
       "      <td>0.181716</td>\n",
       "      <td>0.026167</td>\n",
       "      <td>0.054313</td>\n",
       "      <td>-0.263340</td>\n",
       "      <td>1.000000</td>\n",
       "      <td>-0.038217</td>\n",
       "      <td>0.011637</td>\n",
       "      <td>0.085066</td>\n",
       "      <td>-0.201320</td>\n",
       "    </tr>\n",
       "    <tr>\n",
       "      <th>sex</th>\n",
       "      <td>0.065430</td>\n",
       "      <td>-0.094769</td>\n",
       "      <td>0.015954</td>\n",
       "      <td>-0.157730</td>\n",
       "      <td>-0.144435</td>\n",
       "      <td>-0.104615</td>\n",
       "      <td>-0.124212</td>\n",
       "      <td>0.043781</td>\n",
       "      <td>-0.038217</td>\n",
       "      <td>1.000000</td>\n",
       "      <td>0.445892</td>\n",
       "      <td>-0.015608</td>\n",
       "      <td>-0.004316</td>\n",
       "    </tr>\n",
       "    <tr>\n",
       "      <th>smoking</th>\n",
       "      <td>0.018668</td>\n",
       "      <td>-0.107290</td>\n",
       "      <td>-0.033104</td>\n",
       "      <td>-0.147173</td>\n",
       "      <td>-0.065217</td>\n",
       "      <td>-0.055711</td>\n",
       "      <td>0.012990</td>\n",
       "      <td>-0.041944</td>\n",
       "      <td>0.011637</td>\n",
       "      <td>0.445892</td>\n",
       "      <td>1.000000</td>\n",
       "      <td>-0.022839</td>\n",
       "      <td>-0.012623</td>\n",
       "    </tr>\n",
       "    <tr>\n",
       "      <th>time</th>\n",
       "      <td>-0.224068</td>\n",
       "      <td>-0.141414</td>\n",
       "      <td>0.119821</td>\n",
       "      <td>0.033726</td>\n",
       "      <td>0.044765</td>\n",
       "      <td>-0.196439</td>\n",
       "      <td>-0.003807</td>\n",
       "      <td>-0.157832</td>\n",
       "      <td>0.085066</td>\n",
       "      <td>-0.015608</td>\n",
       "      <td>-0.022839</td>\n",
       "      <td>1.000000</td>\n",
       "      <td>-0.526964</td>\n",
       "    </tr>\n",
       "    <tr>\n",
       "      <th>DEATH_EVENT</th>\n",
       "      <td>0.253729</td>\n",
       "      <td>0.066270</td>\n",
       "      <td>0.021085</td>\n",
       "      <td>-0.001943</td>\n",
       "      <td>-0.270611</td>\n",
       "      <td>0.079351</td>\n",
       "      <td>-0.044132</td>\n",
       "      <td>0.373510</td>\n",
       "      <td>-0.201320</td>\n",
       "      <td>-0.004316</td>\n",
       "      <td>-0.012623</td>\n",
       "      <td>-0.526964</td>\n",
       "      <td>1.000000</td>\n",
       "    </tr>\n",
       "  </tbody>\n",
       "</table>\n",
       "</div>"
      ],
      "text/plain": [
       "                               age   anaemia  creatinine_phosphokinase  \\\n",
       "age                       1.000000  0.088006                 -0.088770   \n",
       "anaemia                   0.088006  1.000000                 -0.215563   \n",
       "creatinine_phosphokinase -0.088770 -0.215563                  1.000000   \n",
       "diabetes                 -0.101012 -0.012729                  0.041635   \n",
       "ejection_fraction         0.066056  0.034259                 -0.074005   \n",
       "high_blood_pressure       0.093289  0.038182                 -0.072321   \n",
       "platelets                -0.034159 -0.029060                  0.003849   \n",
       "serum_creatinine          0.264939 -0.009069                 -0.054158   \n",
       "serum_sodium             -0.052425  0.048286                  0.006865   \n",
       "sex                       0.065430 -0.094769                  0.015954   \n",
       "smoking                   0.018668 -0.107290                 -0.033104   \n",
       "time                     -0.224068 -0.141414                  0.119821   \n",
       "DEATH_EVENT               0.253729  0.066270                  0.021085   \n",
       "\n",
       "                          diabetes  ejection_fraction  high_blood_pressure  \\\n",
       "age                      -0.101012           0.066056             0.093289   \n",
       "anaemia                  -0.012729           0.034259             0.038182   \n",
       "creatinine_phosphokinase  0.041635          -0.074005            -0.072321   \n",
       "diabetes                  1.000000          -0.001267            -0.012732   \n",
       "ejection_fraction        -0.001267           1.000000             0.026419   \n",
       "high_blood_pressure      -0.012732           0.026419             1.000000   \n",
       "platelets                 0.070419           0.068474             0.073361   \n",
       "serum_creatinine          0.005884          -0.165654            -0.082282   \n",
       "serum_sodium             -0.071714           0.181716             0.026167   \n",
       "sex                      -0.157730          -0.144435            -0.104615   \n",
       "smoking                  -0.147173          -0.065217            -0.055711   \n",
       "time                      0.033726           0.044765            -0.196439   \n",
       "DEATH_EVENT              -0.001943          -0.270611             0.079351   \n",
       "\n",
       "                          platelets  serum_creatinine  serum_sodium       sex  \\\n",
       "age                       -0.034159          0.264939     -0.052425  0.065430   \n",
       "anaemia                   -0.029060         -0.009069      0.048286 -0.094769   \n",
       "creatinine_phosphokinase   0.003849         -0.054158      0.006865  0.015954   \n",
       "diabetes                   0.070419          0.005884     -0.071714 -0.157730   \n",
       "ejection_fraction          0.068474         -0.165654      0.181716 -0.144435   \n",
       "high_blood_pressure        0.073361         -0.082282      0.026167 -0.104615   \n",
       "platelets                  1.000000         -0.057856      0.054313 -0.124212   \n",
       "serum_creatinine          -0.057856          1.000000     -0.263340  0.043781   \n",
       "serum_sodium               0.054313         -0.263340      1.000000 -0.038217   \n",
       "sex                       -0.124212          0.043781     -0.038217  1.000000   \n",
       "smoking                    0.012990         -0.041944      0.011637  0.445892   \n",
       "time                      -0.003807         -0.157832      0.085066 -0.015608   \n",
       "DEATH_EVENT               -0.044132          0.373510     -0.201320 -0.004316   \n",
       "\n",
       "                           smoking      time  DEATH_EVENT  \n",
       "age                       0.018668 -0.224068     0.253729  \n",
       "anaemia                  -0.107290 -0.141414     0.066270  \n",
       "creatinine_phosphokinase -0.033104  0.119821     0.021085  \n",
       "diabetes                 -0.147173  0.033726    -0.001943  \n",
       "ejection_fraction        -0.065217  0.044765    -0.270611  \n",
       "high_blood_pressure      -0.055711 -0.196439     0.079351  \n",
       "platelets                 0.012990 -0.003807    -0.044132  \n",
       "serum_creatinine         -0.041944 -0.157832     0.373510  \n",
       "serum_sodium              0.011637  0.085066    -0.201320  \n",
       "sex                       0.445892 -0.015608    -0.004316  \n",
       "smoking                   1.000000 -0.022839    -0.012623  \n",
       "time                     -0.022839  1.000000    -0.526964  \n",
       "DEATH_EVENT              -0.012623 -0.526964     1.000000  "
      ]
     },
     "execution_count": 85,
     "metadata": {},
     "output_type": "execute_result"
    }
   ],
   "source": [
    "df.corr()"
   ]
  },
  {
   "cell_type": "code",
   "execution_count": 86,
   "id": "6648ea0e",
   "metadata": {},
   "outputs": [
    {
     "data": {
      "image/png": "[encoded data removed]",
      "text/plain": [
       "<Figure size 1080x720 with 2 Axes>"
      ]
     },
     "metadata": {
      "needs_background": "light"
     },
     "output_type": "display_data"
    }
   ],
   "source": [
    "plt.figure(figsize=(15,10))\n",
    "sns.heatmap(df.corr(), annot=True, cmap=\"PiYG_r\", fmt='.2g');"
   ]
  },
  {
   "cell_type": "markdown",
   "id": "64bcad68",
   "metadata": {},
   "source": [
    "# Data Preprocessing"
   ]
  },
  {
   "cell_type": "code",
   "execution_count": 87,
   "id": "ab3d083c",
   "metadata": {},
   "outputs": [],
   "source": [
    "de = [i for i in df.columns if i != 'DEATH_EVENT']"
   ]
  },
  {
   "cell_type": "code",
   "execution_count": 88,
   "id": "9b258f86",
   "metadata": {},
   "outputs": [
    {
     "data": {
      "text/html": [
       "<div>\n",
       "<style scoped>\n",
       "    .dataframe tbody tr th:only-of-type {\n",
       "        vertical-align: middle;\n",
       "    }\n",
       "\n",
       "    .dataframe tbody tr th {\n",
       "        vertical-align: top;\n",
       "    }\n",
       "\n",
       "    .dataframe thead th {\n",
       "        text-align: right;\n",
       "    }\n",
       "</style>\n",
       "<table border=\"1\" class=\"dataframe\">\n",
       "  <thead>\n",
       "    <tr style=\"text-align: right;\">\n",
       "      <th></th>\n",
       "      <th>age</th>\n",
       "      <th>anaemia</th>\n",
       "      <th>creatinine_phosphokinase</th>\n",
       "      <th>diabetes</th>\n",
       "      <th>ejection_fraction</th>\n",
       "      <th>high_blood_pressure</th>\n",
       "      <th>platelets</th>\n",
       "      <th>serum_creatinine</th>\n",
       "      <th>serum_sodium</th>\n",
       "      <th>sex</th>\n",
       "      <th>smoking</th>\n",
       "      <th>time</th>\n",
       "      <th>DEATH_EVENT</th>\n",
       "    </tr>\n",
       "  </thead>\n",
       "  <tbody>\n",
       "    <tr>\n",
       "      <th>0</th>\n",
       "      <td>1.192945</td>\n",
       "      <td>-0.871105</td>\n",
       "      <td>0.764809</td>\n",
       "      <td>-0.847579</td>\n",
       "      <td>-1.545801</td>\n",
       "      <td>1.359272</td>\n",
       "      <td>0.071750</td>\n",
       "      <td>1.399699</td>\n",
       "      <td>-1.649172</td>\n",
       "      <td>0.735688</td>\n",
       "      <td>-0.687682</td>\n",
       "      <td>-1.629502</td>\n",
       "      <td>1</td>\n",
       "    </tr>\n",
       "    <tr>\n",
       "      <th>1</th>\n",
       "      <td>-0.491279</td>\n",
       "      <td>-0.871105</td>\n",
       "      <td>1.571554</td>\n",
       "      <td>-0.847579</td>\n",
       "      <td>-0.002867</td>\n",
       "      <td>-0.735688</td>\n",
       "      <td>0.051564</td>\n",
       "      <td>-0.096242</td>\n",
       "      <td>-0.175024</td>\n",
       "      <td>0.735688</td>\n",
       "      <td>-0.687682</td>\n",
       "      <td>-1.603691</td>\n",
       "      <td>1</td>\n",
       "    </tr>\n",
       "    <tr>\n",
       "      <th>2</th>\n",
       "      <td>0.350833</td>\n",
       "      <td>-0.871105</td>\n",
       "      <td>-0.614109</td>\n",
       "      <td>-0.847579</td>\n",
       "      <td>-1.545801</td>\n",
       "      <td>-0.735688</td>\n",
       "      <td>-1.194509</td>\n",
       "      <td>0.402525</td>\n",
       "      <td>-1.894864</td>\n",
       "      <td>0.735688</td>\n",
       "      <td>1.454161</td>\n",
       "      <td>-1.590785</td>\n",
       "      <td>1</td>\n",
       "    </tr>\n",
       "    <tr>\n",
       "      <th>3</th>\n",
       "      <td>-0.912335</td>\n",
       "      <td>1.147968</td>\n",
       "      <td>-0.882029</td>\n",
       "      <td>-0.847579</td>\n",
       "      <td>-1.545801</td>\n",
       "      <td>-0.735688</td>\n",
       "      <td>-0.604408</td>\n",
       "      <td>1.399699</td>\n",
       "      <td>0.070667</td>\n",
       "      <td>0.735688</td>\n",
       "      <td>-0.687682</td>\n",
       "      <td>-1.590785</td>\n",
       "      <td>1</td>\n",
       "    </tr>\n",
       "    <tr>\n",
       "      <th>4</th>\n",
       "      <td>0.350833</td>\n",
       "      <td>1.147968</td>\n",
       "      <td>-0.524206</td>\n",
       "      <td>1.179830</td>\n",
       "      <td>-1.545801</td>\n",
       "      <td>-0.735688</td>\n",
       "      <td>0.833964</td>\n",
       "      <td>1.687858</td>\n",
       "      <td>-2.877629</td>\n",
       "      <td>-1.359272</td>\n",
       "      <td>-0.687682</td>\n",
       "      <td>-1.577879</td>\n",
       "      <td>1</td>\n",
       "    </tr>\n",
       "  </tbody>\n",
       "</table>\n",
       "</div>"
      ],
      "text/plain": [
       "        age   anaemia  creatinine_phosphokinase  diabetes  ejection_fraction  \\\n",
       "0  1.192945 -0.871105                  0.764809 -0.847579          -1.545801   \n",
       "1 -0.491279 -0.871105                  1.571554 -0.847579          -0.002867   \n",
       "2  0.350833 -0.871105                 -0.614109 -0.847579          -1.545801   \n",
       "3 -0.912335  1.147968                 -0.882029 -0.847579          -1.545801   \n",
       "4  0.350833  1.147968                 -0.524206  1.179830          -1.545801   \n",
       "\n",
       "   high_blood_pressure  platelets  serum_creatinine  serum_sodium       sex  \\\n",
       "0             1.359272   0.071750          1.399699     -1.649172  0.735688   \n",
       "1            -0.735688   0.051564         -0.096242     -0.175024  0.735688   \n",
       "2            -0.735688  -1.194509          0.402525     -1.894864  0.735688   \n",
       "3            -0.735688  -0.604408          1.399699      0.070667  0.735688   \n",
       "4            -0.735688   0.833964          1.687858     -2.877629 -1.359272   \n",
       "\n",
       "    smoking      time  DEATH_EVENT  \n",
       "0 -0.687682 -1.629502            1  \n",
       "1 -0.687682 -1.603691            1  \n",
       "2  1.454161 -1.590785            1  \n",
       "3 -0.687682 -1.590785            1  \n",
       "4 -0.687682 -1.577879            1  "
      ]
     },
     "execution_count": 88,
     "metadata": {},
     "output_type": "execute_result"
    }
   ],
   "source": [
    "from sklearn.preprocessing import StandardScaler\n",
    "scaler = StandardScaler()\n",
    "df[de] = scaler.fit_transform(df[de])\n",
    "df.head()"
   ]
  },
  {
   "cell_type": "markdown",
   "id": "8df02b21",
   "metadata": {},
   "source": [
    "# Model"
   ]
  },
  {
   "cell_type": "code",
   "execution_count": 89,
   "id": "963f83e4",
   "metadata": {},
   "outputs": [],
   "source": [
    "x = df.drop('DEATH_EVENT', axis=1)\n",
    "y = df['DEATH_EVENT']"
   ]
  },
  {
   "cell_type": "code",
   "execution_count": 90,
   "id": "4648d237",
   "metadata": {},
   "outputs": [
    {
     "name": "stdout",
     "output_type": "stream",
     "text": [
      "Before Smote\n"
     ]
    },
    {
     "data": {
      "text/plain": [
       "0    203\n",
       "1     96\n",
       "Name: DEATH_EVENT, dtype: int64"
      ]
     },
     "execution_count": 90,
     "metadata": {},
     "output_type": "execute_result"
    }
   ],
   "source": [
    "print(\"Before Smote\")\n",
    "y.value_counts()"
   ]
  },
  {
   "cell_type": "code",
   "execution_count": 91,
   "id": "04467d40",
   "metadata": {},
   "outputs": [],
   "source": [
    "sm = SMOTE(random_state=42)\n",
    "x_sm, y_sm = sm.fit_resample(x, y)"
   ]
  },
  {
   "cell_type": "code",
   "execution_count": 92,
   "id": "f772db16",
   "metadata": {},
   "outputs": [
    {
     "name": "stdout",
     "output_type": "stream",
     "text": [
      "After Smote\n"
     ]
    },
    {
     "data": {
      "text/plain": [
       "1    203\n",
       "0    203\n",
       "Name: DEATH_EVENT, dtype: int64"
      ]
     },
     "execution_count": 92,
     "metadata": {},
     "output_type": "execute_result"
    }
   ],
   "source": [
    "print(\"After Smote\")\n",
    "y_sm.value_counts()"
   ]
  },
  {
   "cell_type": "code",
   "execution_count": 93,
   "id": "3aaf763b",
   "metadata": {},
   "outputs": [],
   "source": [
    "X_train, X_test, y_train, y_test = train_test_split(x_sm, y_sm, stratify = y_sm, test_size=0.3, random_state=5)"
   ]
  },
  {
   "cell_type": "markdown",
   "id": "fa5a8483",
   "metadata": {},
   "source": [
    "# Random Forest Classifier"
   ]
  },
  {
   "cell_type": "code",
   "execution_count": 94,
   "id": "04810cfc",
   "metadata": {},
   "outputs": [
    {
     "name": "stdout",
     "output_type": "stream",
     "text": [
      "Accuracy Score: 0.8360655737704918\n",
      "              precision    recall  f1-score   support\n",
      "\n",
      "           0       0.87      0.79      0.83        61\n",
      "           1       0.81      0.89      0.84        61\n",
      "\n",
      "    accuracy                           0.84       122\n",
      "   macro avg       0.84      0.84      0.84       122\n",
      "weighted avg       0.84      0.84      0.84       122\n",
      "\n"
     ]
    }
   ],
   "source": [
    "random_forest = RandomForestClassifier(n_estimators=100)\n",
    "random_forest.fit(X_train, y_train)\n",
    "\n",
    "pred1  = random_forest.predict(X_test)\n",
    "\n",
    "print(\"Accuracy Score:\", accuracy_score(y_test, pred1))\n",
    "print(classification_report(y_test, pred1))"
   ]
  },
  {
   "cell_type": "code",
   "execution_count": 95,
   "id": "f1e17f75",
   "metadata": {},
   "outputs": [
    {
     "data": {
      "image/png": "[encoded data removed]",
      "text/plain": [
       "<Figure size 432x288 with 2 Axes>"
      ]
     },
     "metadata": {
      "needs_background": "light"
     },
     "output_type": "display_data"
    }
   ],
   "source": [
    "cm_rf              = confusion_matrix(y_test, pred1)\n",
    "group_names        = ['True Neg','False Pos','False Neg','True Pos']\n",
    "group_counts       = ['{0:0.0f}'.format(value) for value in cm_rf.flatten()]\n",
    "group_percentages  = ['{0:.2%}'.format(value) for value in cm_rf.flatten()/np.sum(cm_rf)]\n",
    "labels             = [f'{v1}\\n{v2}\\n{v3}' for v1, v2, v3 in zip(group_names,group_counts,group_percentages)]\n",
    "labels             = np.asarray(labels).reshape(2,2)\n",
    "ax                 = sns.heatmap(cm_rf/np.sum(cm_rf), annot=labels, fmt='', cmap='PiYG_r')\n",
    "ax.set_title('Confusion Matrix - Random Forest\\n');\n",
    "\n",
    "plt.show()"
   ]
  },
  {
   "cell_type": "markdown",
   "id": "e941a567",
   "metadata": {},
   "source": [
    "# XGB Classifier"
   ]
  },
  {
   "cell_type": "code",
   "execution_count": 96,
   "id": "2c6c4170",
   "metadata": {},
   "outputs": [
    {
     "name": "stderr",
     "output_type": "stream",
     "text": [
      "c:\\users\\asus\\appdata\\local\\programs\\python\\python38\\lib\\site-packages\\xgboost\\sklearn.py:1224: UserWarning: The use of label encoder in XGBClassifier is deprecated and will be removed in a future release. To remove this warning, do the following: 1) Pass option use_label_encoder=False when constructing XGBClassifier object; and 2) Encode your labels (y) as integers starting with 0, i.e. 0, 1, 2, ..., [num_class - 1].\n",
      "  warnings.warn(label_encoder_deprecation_msg, UserWarning)\n"
     ]
    },
    {
     "name": "stdout",
     "output_type": "stream",
     "text": [
      "[21:01:50] WARNING: C:/Users/Administrator/workspace/xgboost-win64_release_1.5.1/src/learner.cc:1115: Starting in XGBoost 1.3.0, the default evaluation metric used with the objective 'binary:logistic' was changed from 'error' to 'logloss'. Explicitly set eval_metric if you'd like to restore the old behavior.\n",
      "Accuracy Score: 0.8360655737704918\n",
      "              precision    recall  f1-score   support\n",
      "\n",
      "           0       0.87      0.79      0.83        61\n",
      "           1       0.81      0.89      0.84        61\n",
      "\n",
      "    accuracy                           0.84       122\n",
      "   macro avg       0.84      0.84      0.84       122\n",
      "weighted avg       0.84      0.84      0.84       122\n",
      "\n"
     ]
    }
   ],
   "source": [
    "xgb = XGBClassifier()\n",
    "xgb.fit(X_train, y_train)\n",
    "\n",
    "pred2  = xgb.predict(X_test)\n",
    "\n",
    "print(\"Accuracy Score:\", accuracy_score(y_test, pred2))\n",
    "print(classification_report(y_test, pred2))"
   ]
  },
  {
   "cell_type": "code",
   "execution_count": 97,
   "id": "07e3cef0",
   "metadata": {},
   "outputs": [
    {
     "data": {
      "image/png": "[encoded data removed]",
      "text/plain": [
       "<Figure size 432x288 with 2 Axes>"
      ]
     },
     "metadata": {
      "needs_background": "light"
     },
     "output_type": "display_data"
    }
   ],
   "source": [
    "cm_xb              = confusion_matrix(y_test, pred2)\n",
    "group_names        = ['True Neg','False Pos','False Neg','True Pos']\n",
    "group_counts       = ['{0:0.0f}'.format(value) for value in cm_xb.flatten()]\n",
    "group_percentages  = ['{0:.2%}'.format(value) for value in cm_xb.flatten()/np.sum(cm_xb)]\n",
    "labels             = [f'{v1}\\n{v2}\\n{v3}' for v1, v2, v3 in zip(group_names,group_counts,group_percentages)]\n",
    "labels             = np.asarray(labels).reshape(2,2)\n",
    "ax                 = sns.heatmap(cm_xb/np.sum(cm_xb), annot=labels, fmt='', cmap='PiYG_r')\n",
    "ax.set_title('Confusion Matrix - XGBoost \\n');\n",
    "\n",
    "plt.show()"
   ]
  },
  {
   "cell_type": "code",
   "execution_count": 98,
   "id": "a70b0ddd",
   "metadata": {
    "scrolled": true
   },
   "outputs": [
    {
     "name": "stdout",
     "output_type": "stream",
     "text": [
      "Accuracy of Random Forest Classifier is :  83.61%\n",
      "Accuracy of XGB Classifier is           :  83.61%\n"
     ]
    }
   ],
   "source": [
    "dt_acc1 = accuracy_score(y_test, pred1)\n",
    "dt_acc2 = accuracy_score(y_test, pred2)\n",
    "\n",
    "print(\"Accuracy of Random Forest Classifier is : \", \"{:.2f}%\".format(100* dt_acc1))\n",
    "print(\"Accuracy of XGB Classifier is           : \", \"{:.2f}%\".format(100* dt_acc2))"
   ]
  },
  {
   "cell_type": "code",
   "execution_count": 99,
   "id": "cf63874f",
   "metadata": {},
   "outputs": [
    {
     "name": "stdout",
     "output_type": "stream",
     "text": [
      "Ringkasan Evaluasi Model\n"
     ]
    },
    {
     "data": {
      "text/html": [
       "<div>\n",
       "<style scoped>\n",
       "    .dataframe tbody tr th:only-of-type {\n",
       "        vertical-align: middle;\n",
       "    }\n",
       "\n",
       "    .dataframe tbody tr th {\n",
       "        vertical-align: top;\n",
       "    }\n",
       "\n",
       "    .dataframe thead th {\n",
       "        text-align: right;\n",
       "    }\n",
       "</style>\n",
       "<table border=\"1\" class=\"dataframe\">\n",
       "  <thead>\n",
       "    <tr style=\"text-align: right;\">\n",
       "      <th></th>\n",
       "      <th>Model</th>\n",
       "      <th>Accuracy</th>\n",
       "      <th>Precession</th>\n",
       "      <th>Recall</th>\n",
       "      <th>F1-Score</th>\n",
       "    </tr>\n",
       "  </thead>\n",
       "  <tbody>\n",
       "    <tr>\n",
       "      <th>0</th>\n",
       "      <td>Random Forest</td>\n",
       "      <td>83.606557</td>\n",
       "      <td>80.597015</td>\n",
       "      <td>88.52459</td>\n",
       "      <td>84.375</td>\n",
       "    </tr>\n",
       "    <tr>\n",
       "      <th>1</th>\n",
       "      <td>XGBoost</td>\n",
       "      <td>83.606557</td>\n",
       "      <td>80.597015</td>\n",
       "      <td>88.52459</td>\n",
       "      <td>84.375</td>\n",
       "    </tr>\n",
       "  </tbody>\n",
       "</table>\n",
       "</div>"
      ],
      "text/plain": [
       "           Model   Accuracy  Precession    Recall  F1-Score\n",
       "0  Random Forest  83.606557   80.597015  88.52459    84.375\n",
       "1        XGBoost  83.606557   80.597015  88.52459    84.375"
      ]
     },
     "metadata": {},
     "output_type": "display_data"
    }
   ],
   "source": [
    "# kesimpulan akurasi\n",
    "akurasi = {\"Model\": [\"Random Forest\", \"XGBoost\"],\n",
    "\"Accuracy\"   : [accuracy_score(y_test, pred1)*100, accuracy_score(y_test, pred2)*100], \n",
    "\"Precession\" : [precision_score(y_test, pred1)*100, precision_score(y_test, pred2)*100],\n",
    "\"Recall\"     : [recall_score(y_test, pred1)*100, recall_score(y_test, pred2)*100],\n",
    "\"F1-Score\"   : [f1_score(y_test, pred1)*100, f1_score(y_test, pred2)*100]\n",
    "          }\n",
    "\n",
    "tabel_akurasi = pd.DataFrame(akurasi).sort_values('Precession')\n",
    "print('Ringkasan Evaluasi Model')\n",
    "display(tabel_akurasi)"
   ]
  },
  {
   "cell_type": "markdown",
   "id": "6303209b",
   "metadata": {},
   "source": [
    "> Telrihat bahwa XGBoost mempunyai nilai accuracy sebesar 83.61%, Precession 80.59, Recall 88.52, dan F1-Score 84.37. Sedangkan pada Random Forest dengan nilai akurasi 85.61%, Precession 82.08, Recall 90.16%, F1-Score 85.93. Nilai akurasi Random Forest lebih tinggi dari pada XGBoost."
   ]
  },
  {
   "cell_type": "code",
   "execution_count": 100,
   "id": "38adb4f7",
   "metadata": {},
   "outputs": [],
   "source": [
    "pickle.dump(random_forest , open('model_rf.pkl','wb'))"
   ]
  },
  {
   "cell_type": "markdown",
   "id": "58773bbe",
   "metadata": {},
   "source": [
    "> Link Deployment tersedia dalam github"
   ]
  }
 ],
 "metadata": {
  "kernelspec": {
   "display_name": "Python 3 (ipykernel)",
   "language": "python",
   "name": "python3"
  },
  "language_info": {
   "codemirror_mode": {
    "name": "ipython",
    "version": 3
   },
   "file_extension": ".py",
   "mimetype": "text/x-python",
   "name": "python",
   "nbconvert_exporter": "python",
   "pygments_lexer": "ipython3",
   "version": "3.8.7"
  }
 },
 "nbformat": 4,
 "nbformat_minor": 5
}
